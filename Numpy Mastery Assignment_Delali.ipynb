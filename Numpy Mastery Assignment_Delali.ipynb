{
 "cells": [
  {
   "cell_type": "markdown",
   "id": "c0561a04",
   "metadata": {},
   "source": [
    "### Numpy Mastery Assignment\n",
    "- Answer all questions\n",
    "- Submission : 20th September 2022"
   ]
  },
  {
   "cell_type": "code",
   "execution_count": 2,
   "id": "88e4aa35",
   "metadata": {},
   "outputs": [],
   "source": [
    "import numpy as np"
   ]
  },
  {
   "cell_type": "markdown",
   "id": "e04a249e",
   "metadata": {},
   "source": [
    "1. Create a 1D array of numbers from 0 to 9"
   ]
  },
  {
   "cell_type": "code",
   "execution_count": 5,
   "id": "15e24a21",
   "metadata": {},
   "outputs": [
    {
     "data": {
      "text/plain": [
       "array([0, 1, 2, 3, 4, 5, 6, 7, 8, 9])"
      ]
     },
     "execution_count": 5,
     "metadata": {},
     "output_type": "execute_result"
    }
   ],
   "source": [
    "array = np.array([0, 1, 2, 3, 4, 5, 6, 7, 8, 9])\n",
    "array"
   ]
  },
  {
   "cell_type": "markdown",
   "id": "f3b8a05e",
   "metadata": {},
   "source": [
    "2. Create a 3x3 numpy of all True "
   ]
  },
  {
   "cell_type": "code",
   "execution_count": 7,
   "id": "696b9f05",
   "metadata": {},
   "outputs": [
    {
     "name": "stdout",
     "output_type": "stream",
     "text": [
      "[[ True  True  True]\n",
      " [ True  True  True]\n",
      " [ True  True  True]]\n"
     ]
    }
   ],
   "source": [
    "arr1 = np.ones((3, 3), dtype=bool)\n",
    "print(arr1)"
   ]
  },
  {
   "cell_type": "markdown",
   "id": "9bf76467",
   "metadata": {},
   "source": [
    "3. Create an array of numbers from 20 to 39"
   ]
  },
  {
   "cell_type": "code",
   "execution_count": 8,
   "id": "4bd5f5dc",
   "metadata": {},
   "outputs": [
    {
     "data": {
      "text/plain": [
       "array([20, 21, 22, 23, 24, 25, 26, 27, 28, 29, 30, 31, 32, 33, 34, 35, 36,\n",
       "       37, 38, 39])"
      ]
     },
     "execution_count": 8,
     "metadata": {},
     "output_type": "execute_result"
    }
   ],
   "source": [
    "arr_num = np.arange(20, 40)\n",
    "arr_num"
   ]
  },
  {
   "cell_type": "markdown",
   "id": "c68a12af",
   "metadata": {},
   "source": [
    "4. Replace all odd numbers in Q3 by -1"
   ]
  },
  {
   "cell_type": "code",
   "execution_count": 13,
   "id": "d598900c",
   "metadata": {},
   "outputs": [
    {
     "name": "stdout",
     "output_type": "stream",
     "text": [
      "[[20 -1 22]\n",
      " [-1 24 -1]\n",
      " [26 -1 28]]\n"
     ]
    }
   ],
   "source": [
    "# Create the 3x3 array\n",
    "array_new = np.arange(20, 29).reshape((3, 3))\n",
    "\n",
    "# Replace odd numbers with -1\n",
    "array_new[array % 2 == 1] = -1\n",
    "\n",
    "# Print the updated array\n",
    "print(array_new)"
   ]
  },
  {
   "cell_type": "markdown",
   "id": "6bb94688",
   "metadata": {},
   "source": [
    "5. Create two arrays of length 10 and print out  common items in both arrays"
   ]
  },
  {
   "cell_type": "code",
   "execution_count": 14,
   "id": "7fe5b877",
   "metadata": {},
   "outputs": [
    {
     "name": "stdout",
     "output_type": "stream",
     "text": [
      "Array 1: [3 6 7 7 2 6 5 2 7 9]\n",
      "Array 2: [5 3 6 6 7 0 2 1 9 2]\n",
      "Common items: [2 3 5 6 7 9]\n"
     ]
    }
   ],
   "source": [
    "# Create two arrays of length 10\n",
    "array1 = np.random.randint(0, 10, size=10)\n",
    "array2 = np.random.randint(0, 10, size=10)\n",
    "\n",
    "# Print the arrays\n",
    "print(\"Array 1:\", array1)\n",
    "print(\"Array 2:\", array2)\n",
    "\n",
    "# Find the common items in both arrays\n",
    "common_items = np.intersect1d(array1, array2)\n",
    "\n",
    "# Print the common items\n",
    "print(\"Common items:\", common_items)"
   ]
  },
  {
   "cell_type": "markdown",
   "id": "c4b172be",
   "metadata": {},
   "source": [
    "6.  Create a 5x5 identity matrix"
   ]
  },
  {
   "cell_type": "code",
   "execution_count": 15,
   "id": "21fdecac",
   "metadata": {},
   "outputs": [
    {
     "name": "stdout",
     "output_type": "stream",
     "text": [
      "[[1. 0. 0. 0. 0.]\n",
      " [0. 1. 0. 0. 0.]\n",
      " [0. 0. 1. 0. 0.]\n",
      " [0. 0. 0. 1. 0.]\n",
      " [0. 0. 0. 0. 1.]]\n"
     ]
    }
   ],
   "source": [
    "matrix = np.identity(5)\n",
    "print(matrix)"
   ]
  },
  {
   "cell_type": "markdown",
   "id": "0faa0eca",
   "metadata": {},
   "source": [
    "7. In the code cell below define and print a set of arrays defined x, y and z. The array x should be take the form [10 12 9 2 20], y should have  101  values from  10  to  20  inclusive and z should be a  2×3  array of ones."
   ]
  },
  {
   "cell_type": "code",
   "execution_count": 16,
   "id": "2cdb9c47",
   "metadata": {},
   "outputs": [
    {
     "name": "stdout",
     "output_type": "stream",
     "text": [
      "x = [10 12  9  2 20]\n",
      "y = [10.  10.1 10.2 10.3 10.4 10.5 10.6 10.7 10.8 10.9 11.  11.1 11.2 11.3\n",
      " 11.4 11.5 11.6 11.7 11.8 11.9 12.  12.1 12.2 12.3 12.4 12.5 12.6 12.7\n",
      " 12.8 12.9 13.  13.1 13.2 13.3 13.4 13.5 13.6 13.7 13.8 13.9 14.  14.1\n",
      " 14.2 14.3 14.4 14.5 14.6 14.7 14.8 14.9 15.  15.1 15.2 15.3 15.4 15.5\n",
      " 15.6 15.7 15.8 15.9 16.  16.1 16.2 16.3 16.4 16.5 16.6 16.7 16.8 16.9\n",
      " 17.  17.1 17.2 17.3 17.4 17.5 17.6 17.7 17.8 17.9 18.  18.1 18.2 18.3\n",
      " 18.4 18.5 18.6 18.7 18.8 18.9 19.  19.1 19.2 19.3 19.4 19.5 19.6 19.7\n",
      " 19.8 19.9 20. ]\n",
      "z =\n",
      "[[1. 1. 1.]\n",
      " [1. 1. 1.]]\n"
     ]
    }
   ],
   "source": [
    "x = np.array([10, 12, 9, 2, 20])\n",
    "y = np.linspace(10, 20, 101)\n",
    "z = np.ones((2, 3))\n",
    "\n",
    "print(\"x =\", x)\n",
    "print(\"y =\", y)\n",
    "print(\"z =\")\n",
    "print(z)"
   ]
  },
  {
   "cell_type": "markdown",
   "id": "76aaeb7c",
   "metadata": {},
   "source": [
    "8.Using the available Numpy functions on array x from problem  7 , find the average and the standard deviation of the value in this array. Redefine x as an array with all these values sorted in numerical order."
   ]
  },
  {
   "cell_type": "code",
   "execution_count": 18,
   "id": "32886de8",
   "metadata": {},
   "outputs": [
    {
     "name": "stdout",
     "output_type": "stream",
     "text": [
      "Average of x: 10.6\n",
      "Standard deviation of x: 5.78\n",
      "Sorted x: [ 2  9 10 12 20]\n"
     ]
    }
   ],
   "source": [
    "# Define array x\n",
    "x = np.array([10, 12, 9, 2, 20])\n",
    "\n",
    "# Find average and standard deviation of x\n",
    "avgx = np.mean(x)\n",
    "stdx = np.std(x)\n",
    "\n",
    "print(\"Average of x:\", avgx)\n",
    "print(\"Standard deviation of x:\",round(stdx, 2)) \n",
    "\n",
    "# Sort array x\n",
    "x = np.sort(x)\n",
    "\n",
    "print(\"Sorted x:\", x)"
   ]
  },
  {
   "cell_type": "markdown",
   "id": "1b592987",
   "metadata": {},
   "source": [
    "9. Create a 10x10 array with random values and find the minimum and maximum values"
   ]
  },
  {
   "cell_type": "code",
   "execution_count": 20,
   "id": "166e2536",
   "metadata": {},
   "outputs": [
    {
     "name": "stdout",
     "output_type": "stream",
     "text": [
      "Minimum value: 0.007\n",
      "Maximum value: 0.988\n"
     ]
    }
   ],
   "source": [
    "# Create a 10x10 array with random values between 0 and 1\n",
    "arr = np.random.rand(10, 10)\n",
    "\n",
    "# Find the minimum and maximum values in the array\n",
    "min_val = np.min(arr)\n",
    "max_val = np.max(arr)\n",
    "\n",
    "print(\"Minimum value:\", round(min_val,3))\n",
    "print(\"Maximum value:\",round(max_val,3))"
   ]
  },
  {
   "cell_type": "markdown",
   "id": "4e3bcb2c",
   "metadata": {},
   "source": [
    "10. Create a 3x3 matrix with values ranging from 0 to 8"
   ]
  },
  {
   "cell_type": "code",
   "execution_count": 21,
   "id": "8beee591",
   "metadata": {},
   "outputs": [
    {
     "name": "stdout",
     "output_type": "stream",
     "text": [
      "[[0 1 2]\n",
      " [3 4 5]\n",
      " [6 7 8]]\n"
     ]
    }
   ],
   "source": [
    "# Create a 3x3 matrix with values ranging from 0 to 8\n",
    "matrix1 = np.arange(9).reshape(3, 3)\n",
    "\n",
    "print(matrix1)"
   ]
  },
  {
   "cell_type": "markdown",
   "id": "21052f20",
   "metadata": {},
   "source": [
    "11.  Generates an array [[1 2 3] [4 5 6]]"
   ]
  },
  {
   "cell_type": "code",
   "execution_count": 22,
   "id": "b9f901ce",
   "metadata": {
    "scrolled": true
   },
   "outputs": [
    {
     "name": "stdout",
     "output_type": "stream",
     "text": [
      "[[1 2 3]\n",
      " [4 5 6]]\n"
     ]
    }
   ],
   "source": [
    "# Generate the array [[1, 2, 3], [4, 5, 6]]\n",
    "arr = np.array([[1, 2, 3], [4, 5, 6]])\n",
    "\n",
    "print(arr)"
   ]
  },
  {
   "cell_type": "markdown",
   "id": "67633962",
   "metadata": {},
   "source": [
    "12. Generates an array [0 2.5 5 7.5 10]"
   ]
  },
  {
   "cell_type": "code",
   "execution_count": 23,
   "id": "51225905",
   "metadata": {},
   "outputs": [
    {
     "name": "stdout",
     "output_type": "stream",
     "text": [
      "[[ 0.   2.5  5.   7.5 10. ]]\n"
     ]
    }
   ],
   "source": [
    "# Generate the array [[0,2.5,5,7.5,10]]\n",
    "arr = np.array([[0,2.5,5,7.5,10]])\n",
    "\n",
    "print(arr)"
   ]
  },
  {
   "cell_type": "markdown",
   "id": "2ac6248c",
   "metadata": {},
   "source": [
    "13. Generates an 3x3 array of zeros"
   ]
  },
  {
   "cell_type": "code",
   "execution_count": 24,
   "id": "2b9f9e98",
   "metadata": {},
   "outputs": [
    {
     "name": "stdout",
     "output_type": "stream",
     "text": [
      "[[0. 0. 0.]\n",
      " [0. 0. 0.]\n",
      " [0. 0. 0.]]\n"
     ]
    }
   ],
   "source": [
    "arr = np.zeros((3, 3))\n",
    "\n",
    "print(arr)"
   ]
  },
  {
   "cell_type": "markdown",
   "id": "248b6aa4",
   "metadata": {},
   "source": [
    "14. Create array from 0.1 to 10 with 12 elements, inclusively"
   ]
  },
  {
   "cell_type": "code",
   "execution_count": 25,
   "id": "321a86b7",
   "metadata": {},
   "outputs": [
    {
     "name": "stdout",
     "output_type": "stream",
     "text": [
      "[ 0.1  1.   1.9  2.8  3.7  4.6  5.5  6.4  7.3  8.2  9.1 10. ]\n"
     ]
    }
   ],
   "source": [
    "t_t12 = np.linspace(0.1, 10, 12)\n",
    "\n",
    "print(t_t12)"
   ]
  },
  {
   "cell_type": "markdown",
   "id": "3214f8ed",
   "metadata": {},
   "source": [
    "15. Create a matrix with seven columns and five rows of ten(10)."
   ]
  },
  {
   "cell_type": "code",
   "execution_count": 26,
   "id": "f091344e",
   "metadata": {},
   "outputs": [
    {
     "name": "stdout",
     "output_type": "stream",
     "text": [
      "[[10. 10. 10. 10. 10. 10. 10.]\n",
      " [10. 10. 10. 10. 10. 10. 10.]\n",
      " [10. 10. 10. 10. 10. 10. 10.]\n",
      " [10. 10. 10. 10. 10. 10. 10.]\n",
      " [10. 10. 10. 10. 10. 10. 10.]]\n"
     ]
    }
   ],
   "source": [
    "mat5 = np.ones((5, 7)) * 10\n",
    "\n",
    "print(mat5)"
   ]
  },
  {
   "cell_type": "markdown",
   "id": "14397e1e",
   "metadata": {},
   "source": [
    "16. What is the difference between numpy and list?"
   ]
  },
  {
   "cell_type": "markdown",
   "id": "37601ac9",
   "metadata": {},
   "source": [
    "NumPy arrays have built-in methods and functions for common mathematical and scientific operations, making it easier to work with arrays of data. In contrast, Python lists require you to write your own functions or use external libraries to perform the same operations."
   ]
  },
  {
   "cell_type": "markdown",
   "id": "4fcce8ae",
   "metadata": {},
   "source": [
    "17. Create a 1D array of ones consisting of  50  values. Change the values of the array so that the values alternate between ones and zeros ie  1,0,1,0,1,0,1,0,1...  ensuring that the starting value is  1 "
   ]
  },
  {
   "cell_type": "code",
   "execution_count": 27,
   "id": "d706a2a9",
   "metadata": {},
   "outputs": [
    {
     "name": "stdout",
     "output_type": "stream",
     "text": [
      "[1 0 1 0 1 0 1 0 1 0 1 0 1 0 1 0 1 0 1 0 1 0 1 0 1 0 1 0 1 0 1 0 1 0 1 0 1\n",
      " 0 1 0 1 0 1 0 1 0 1 0 1 0]\n"
     ]
    }
   ],
   "source": [
    "arr50 = np.ones(50, dtype=int)\n",
    "\n",
    "# Alternate the values between ones and zeros\n",
    "arr50[1::2] = 0\n",
    "\n",
    "print(arr50)"
   ]
  },
  {
   "cell_type": "markdown",
   "id": "4a3a1bab",
   "metadata": {},
   "source": [
    "18. Generate a  10×10  matrix of zeros.\n",
    "Make this matrix an identity matrix"
   ]
  },
  {
   "cell_type": "code",
   "execution_count": 28,
   "id": "1caed04d",
   "metadata": {},
   "outputs": [
    {
     "name": "stdout",
     "output_type": "stream",
     "text": [
      "[[1. 0. 0. 0. 0. 0. 0. 0. 0. 0.]\n",
      " [0. 1. 0. 0. 0. 0. 0. 0. 0. 0.]\n",
      " [0. 0. 1. 0. 0. 0. 0. 0. 0. 0.]\n",
      " [0. 0. 0. 1. 0. 0. 0. 0. 0. 0.]\n",
      " [0. 0. 0. 0. 1. 0. 0. 0. 0. 0.]\n",
      " [0. 0. 0. 0. 0. 1. 0. 0. 0. 0.]\n",
      " [0. 0. 0. 0. 0. 0. 1. 0. 0. 0.]\n",
      " [0. 0. 0. 0. 0. 0. 0. 1. 0. 0.]\n",
      " [0. 0. 0. 0. 0. 0. 0. 0. 1. 0.]\n",
      " [0. 0. 0. 0. 0. 0. 0. 0. 0. 1.]]\n"
     ]
    }
   ],
   "source": [
    "# Generate a 10x10 matrix of zeros\n",
    "matz = np.zeros((10, 10))\n",
    "\n",
    "# Make the matrix an identity matrix\n",
    "np.fill_diagonal(matz, 1)\n",
    "\n",
    "print(matz)"
   ]
  },
  {
   "cell_type": "markdown",
   "id": "434544f2",
   "metadata": {},
   "source": [
    "19. Generate an array x to be a  10×10  array of zeros. Redefine its diagonal components (from left to right) to equal one"
   ]
  },
  {
   "cell_type": "code",
   "execution_count": 29,
   "id": "bd114f54",
   "metadata": {},
   "outputs": [
    {
     "name": "stdout",
     "output_type": "stream",
     "text": [
      "[[1. 0. 0. 0. 0. 0. 0. 0. 0. 0.]\n",
      " [0. 1. 0. 0. 0. 0. 0. 0. 0. 0.]\n",
      " [0. 0. 1. 0. 0. 0. 0. 0. 0. 0.]\n",
      " [0. 0. 0. 1. 0. 0. 0. 0. 0. 0.]\n",
      " [0. 0. 0. 0. 1. 0. 0. 0. 0. 0.]\n",
      " [0. 0. 0. 0. 0. 1. 0. 0. 0. 0.]\n",
      " [0. 0. 0. 0. 0. 0. 1. 0. 0. 0.]\n",
      " [0. 0. 0. 0. 0. 0. 0. 1. 0. 0.]\n",
      " [0. 0. 0. 0. 0. 0. 0. 0. 1. 0.]\n",
      " [0. 0. 0. 0. 0. 0. 0. 0. 0. 1.]]\n"
     ]
    }
   ],
   "source": [
    "# Generate a 10x10 array of zeros\n",
    "arr3 = np.zeros((10, 10))\n",
    "\n",
    "# Set diagonal components to 1\n",
    "for i in range(10):\n",
    "    arr3[i, i] = 1\n",
    "\n",
    "print(arr3)"
   ]
  },
  {
   "cell_type": "markdown",
   "id": "4ff0163c",
   "metadata": {},
   "source": [
    "20. What is the dot products of this two matrix [[1,2],[3,4]] and [[5,6],[7,8]]"
   ]
  },
  {
   "cell_type": "code",
   "execution_count": 32,
   "id": "5e8c265a",
   "metadata": {},
   "outputs": [
    {
     "name": "stdout",
     "output_type": "stream",
     "text": [
      "Product of two matrices: [[19 22]\n",
      " [43 50]]\n"
     ]
    }
   ],
   "source": [
    "# Define the two matrices\n",
    "mat1 = np.array([[1, 2], [3, 4]])\n",
    "mat2= np.array([[5, 6], [7, 8]])\n",
    "\n",
    "# Compute the dot product\n",
    "product = np.dot(mat1, mat2)\n",
    "\n",
    "print('Product of two matrices:', product)"
   ]
  },
  {
   "cell_type": "markdown",
   "id": "7b090d8f",
   "metadata": {},
   "source": [
    "21.  Multiply these two matrix [[1,2],[3,4]] and [[5,6],[7,8]]"
   ]
  },
  {
   "cell_type": "code",
   "execution_count": 33,
   "id": "411ce4bd",
   "metadata": {},
   "outputs": [
    {
     "name": "stdout",
     "output_type": "stream",
     "text": [
      "[[ 5 12]\n",
      " [21 32]]\n"
     ]
    }
   ],
   "source": [
    "A = np.array([[1, 2], [3, 4]])\n",
    "B = np.array([[5, 6], [7, 8]])\n",
    "\n",
    "C = A * B\n",
    "\n",
    "print(C)"
   ]
  },
  {
   "cell_type": "markdown",
   "id": "81083127",
   "metadata": {},
   "source": [
    "22. Multiply this matrix  [[1,2],[3,4]] by a  scalar value of 5"
   ]
  },
  {
   "cell_type": "code",
   "execution_count": 34,
   "id": "c308c093",
   "metadata": {},
   "outputs": [
    {
     "name": "stdout",
     "output_type": "stream",
     "text": [
      "[[ 5 10]\n",
      " [15 20]]\n"
     ]
    }
   ],
   "source": [
    "tt= np.array([[1, 2], [3, 4]])\n",
    "\n",
    "# Perform scalar multiplication\n",
    "ss = tt * 5\n",
    "\n",
    "print(ss)"
   ]
  },
  {
   "cell_type": "markdown",
   "id": "6c8f970c",
   "metadata": {},
   "source": [
    "23. A = [[1,2],[3,4]] and B = transpose of A. Calculate AxB"
   ]
  },
  {
   "cell_type": "code",
   "execution_count": null,
   "id": "b388671a",
   "metadata": {},
   "outputs": [],
   "source": []
  },
  {
   "cell_type": "markdown",
   "id": "87bc118d",
   "metadata": {},
   "source": [
    "24. A= [[1,2],[3,4]] and B =  [[5,6],[7,8]]. Is A x B = B x A ? Show working"
   ]
  },
  {
   "cell_type": "code",
   "execution_count": 37,
   "id": "824a765e",
   "metadata": {},
   "outputs": [
    {
     "name": "stdout",
     "output_type": "stream",
     "text": [
      "[[ 5 11]\n",
      " [11 25]]\n"
     ]
    }
   ],
   "source": [
    "# Define the matrices A and B\n",
    "A = np.array([[1, 2], [3, 4]])\n",
    " # Transpose of A\n",
    "B = A.T \n",
    "\n",
    "# Perform matrix multiplication\n",
    "C = np.dot(A, B)\n",
    "\n",
    "print(C)"
   ]
  },
  {
   "cell_type": "markdown",
   "id": "390f3940",
   "metadata": {},
   "source": [
    "25. Creates an array [[0 1 2] [3 4 5]]\n",
    "- Let A = first row of the matrix\n",
    "- B = second row of the matrix\n",
    "- C = second column of the Matrix\n",
    "- D = first row, third column of the matrix\n",
    "- print A , B , C, D"
   ]
  },
  {
   "cell_type": "code",
   "execution_count": 38,
   "id": "1d69c6df",
   "metadata": {},
   "outputs": [
    {
     "name": "stdout",
     "output_type": "stream",
     "text": [
      "A: [0 1 2]\n",
      "B: [3 4 5]\n",
      "C: [1 4]\n",
      "D: 2\n"
     ]
    }
   ],
   "source": [
    "# Create the array\n",
    "arr = np.array([[0, 1, 2], [3, 4, 5]])\n",
    "\n",
    "# Extract rows and columns\n",
    "A = arr[0]\n",
    "B = arr[1]\n",
    "C = arr[:, 1]\n",
    "D = arr[0, 2]\n",
    "\n",
    "# Print the results\n",
    "print(\"A:\", A)\n",
    "print(\"B:\", B)\n",
    "print(\"C:\", C)\n",
    "print(\"D:\", D)"
   ]
  },
  {
   "cell_type": "code",
   "execution_count": null,
   "id": "b37b5a52",
   "metadata": {},
   "outputs": [],
   "source": []
  }
 ],
 "metadata": {
  "kernelspec": {
   "display_name": "Python 3 (ipykernel)",
   "language": "python",
   "name": "python3"
  },
  "language_info": {
   "codemirror_mode": {
    "name": "ipython",
    "version": 3
   },
   "file_extension": ".py",
   "mimetype": "text/x-python",
   "name": "python",
   "nbconvert_exporter": "python",
   "pygments_lexer": "ipython3",
   "version": "3.9.13"
  }
 },
 "nbformat": 4,
 "nbformat_minor": 5
}
