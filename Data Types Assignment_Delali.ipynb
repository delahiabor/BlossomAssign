{
 "cells": [
  {
   "cell_type": "markdown",
   "id": "1971db0e",
   "metadata": {},
   "source": [
    "### Q1\n",
    "List the basic data types in python and give one example each."
   ]
  },
  {
   "cell_type": "code",
   "execution_count": null,
   "id": "6c25a697",
   "metadata": {},
   "outputs": [],
   "source": [
    "int = 50\n",
    "float = 17.5 \n",
    "strings = \"Selasi is going to school\"\n",
    "boolean = True "
   ]
  },
  {
   "cell_type": "markdown",
   "id": "4a2be5ba",
   "metadata": {},
   "source": [
    "### Q2\n",
    "Change the variable x = 4539.85 to :\n",
    "\n",
    "(i) a string and assign it to a new variable y,\n",
    "\n",
    "(ii) an integer and assign it to a new variable z\n",
    "\n",
    "Print out the type of y and z."
   ]
  },
  {
   "cell_type": "code",
   "execution_count": 3,
   "id": "4f69aaca",
   "metadata": {},
   "outputs": [
    {
     "name": "stdout",
     "output_type": "stream",
     "text": [
      "<class 'str'>\n",
      "<class 'int'>\n"
     ]
    }
   ],
   "source": [
    "x= 4539.85\n",
    "y= str(x)\n",
    "z= int(x)\n",
    "print(type(y))\n",
    "print(type(z))\n"
   ]
  },
  {
   "cell_type": "markdown",
   "id": "81a1251c",
   "metadata": {},
   "source": [
    "### Q3\n",
    "\n",
    "What data type would you use to store\n",
    "\n",
    "a. The price of car?\n",
    "\n",
    "b. The age of a person\n",
    "\n",
    "c. car plate number: plateNumber = \"AV01-AFP\"?\n",
    "\n",
    "d. The price of fuel\n",
    "\n",
    "e. The number of students in the class\n",
    "\n",
    "f. The weight of a person\n",
    "\n",
    "g. Check whether two figures are equal\n",
    "\n",
    "i. The name of a  school\n",
    "\n",
    "j. The average result of the overall score of a student\n",
    "\n",
    "k. The total number of vote cast\n",
    "\n",
    "\n",
    "ANSWERS\n",
    "a. float \n",
    "b. integer\n",
    "c. string\n",
    "d. float\n",
    "e. integer \n",
    "f. string \n",
    "g. string \n",
    "i. string \n",
    "j. float/integer \n",
    "k. integer \n",
    "\n",
    "\n",
    "\n"
   ]
  },
  {
   "cell_type": "markdown",
   "id": "f0694362",
   "metadata": {},
   "source": [
    "### Q4\n",
    "**Thomas Partey is arguably the best player in the Black Stars. He is a great addition to the team**\n",
    "\n",
    "Split the statement above into **two statement_1** and **statement_2** such that statement_1 will be 'Thomas Partey is arguably the best player in the Black Stars' and statement_2 will be 'He is a great addition to the team'\n",
    "\n",
    "Statement:\n",
    "\n",
    "- **What is the length of statment 1?**\n",
    "-**What is the length of statment 2?**\n",
    "-**Is the length of statement 1 greater than statement 2**"
   ]
  },
  {
   "cell_type": "code",
   "execution_count": 5,
   "id": "d434c5a5",
   "metadata": {},
   "outputs": [
    {
     "name": "stdout",
     "output_type": "stream",
     "text": [
      "60\n",
      "34\n",
      "True\n"
     ]
    }
   ],
   "source": [
    "statement_1 =\"Thomas Partey is arguably the best player in the Black Stars\"\n",
    "statement_2 = \"He is a great addition to the team\"\n",
    "\n",
    "x= len(statement_1)\n",
    "y= len(statement_2)\n",
    "z= x>y\n",
    "print (x)\n",
    "print(y)\n",
    "print(z)"
   ]
  },
  {
   "cell_type": "markdown",
   "id": "ceb46447",
   "metadata": {},
   "source": [
    "### Q5\n",
    "What values does python use to represent **True** and **False** respectively?\n",
    "\n",
    "\n",
    "\n",
    "ANSWER: 1 and O "
   ]
  },
  {
   "cell_type": "markdown",
   "id": "e4cc9b15",
   "metadata": {},
   "source": [
    "### Q6\n",
    "Write a code to evaluate if the following statments are True or False.\n",
    "\n",
    "1. 78 is greater than 46 and less than 30 which is an odd number.\n",
    "\n",
    "2. 8-2 is an even number or 8 is a is an odd number.\n",
    "\n",
    "3. The number of characters in the word 'boostrap' is 7 and that of 'sample' is 6."
   ]
  },
  {
   "cell_type": "code",
   "execution_count": 14,
   "id": "e8ee6ae3",
   "metadata": {},
   "outputs": [
    {
     "name": "stdout",
     "output_type": "stream",
     "text": [
      "True\n",
      "8\n",
      "6\n"
     ]
    }
   ],
   "source": [
    "print((78>46)<30)\n",
    "\n",
    "word_1=\"boostrap\"\n",
    "word_2= \"sample\"\n",
    "d= len(word_1)\n",
    "e= len(word_2)\n",
    "print(d)\n",
    "print(e)"
   ]
  },
  {
   "cell_type": "markdown",
   "id": "bc13f9fc",
   "metadata": {},
   "source": [
    "### Q7\n",
    "Given the following python code,\n",
    "\n",
    "`word='Hello, How are you?'`\n",
    "\n",
    "Write Python code to return the following\n",
    "\n",
    "- How\n",
    "- How are you\n",
    "- are\n",
    "- ?\n",
    "- Hello, How are you\n",
    "\n",
    "\n",
    " "
   ]
  },
  {
   "cell_type": "code",
   "execution_count": 6,
   "id": "8c80587c",
   "metadata": {},
   "outputs": [
    {
     "name": "stdout",
     "output_type": "stream",
     "text": [
      "How\n",
      "How are you\n",
      "are\n",
      "?\n",
      "Hello,How are you\n"
     ]
    }
   ],
   "source": [
    "print(\"How\")\n",
    "print(\"How are you\")\n",
    "print(\"are\")\n",
    "print(\"?\")\n",
    "print(\"Hello,How are you\")"
   ]
  },
  {
   "cell_type": "markdown",
   "id": "e4167de5",
   "metadata": {},
   "source": [
    "### Q8\n",
    "Given the following python code,\n",
    "\n",
    "`sentence = \"I am very excited\"`\n",
    "\n",
    "Write Python code to return \n",
    "- Convert sentence to upper case\n",
    "- Convert sentence to lower case\n",
    "- Convert sentence to title case\n",
    "- Convert sentence to list of strings\n",
    " "
   ]
  },
  {
   "cell_type": "code",
   "execution_count": 1,
   "id": "63652f1c",
   "metadata": {},
   "outputs": [
    {
     "name": "stdout",
     "output_type": "stream",
     "text": [
      "Upper case: I AM VERY EXCITED\n",
      "Lower case: i am very excited\n",
      "Title case: I Am Very Excited\n",
      "List of words: ['I', 'am', 'very', 'excited']\n"
     ]
    }
   ],
   "source": [
    "sentence = \"I am very excited\"\n",
    "\n",
    "# Convert sentence to upper case\n",
    "upper_case = sentence.upper()\n",
    "print(\"Upper case:\", upper_case)\n",
    "\n",
    "# Convert sentence to lower case\n",
    "lower_case = sentence.lower()\n",
    "print(\"Lower case:\", lower_case)\n",
    "\n",
    "# Convert sentence to title case\n",
    "title_case = sentence.title()\n",
    "print(\"Title case:\", title_case)\n",
    "\n",
    "# Convert sentence to list of strings\n",
    "word_list = sentence.split()\n",
    "print(\"List of words:\", word_list)"
   ]
  },
  {
   "cell_type": "markdown",
   "id": "4faf0134",
   "metadata": {},
   "source": [
    "### Q9\n",
    "`word = 'OneThirtyEight'`\n",
    "\n",
    "Using Python code extract the following from the variable word:\n",
    "- One\n",
    "- Thirty\n",
    "- Eight\n",
    "- OneThirty\n",
    "- ThirtyEight\n",
    "- ONETHIRTYEIGHT"
   ]
  },
  {
   "cell_type": "code",
   "execution_count": 6,
   "id": "573e3333",
   "metadata": {},
   "outputs": [
    {
     "name": "stdout",
     "output_type": "stream",
     "text": [
      "One\n",
      "Thirty\n",
      "Eight\n",
      "OneThirty\n",
      "ThirtyEight\n",
      "ONETHIRTYEIGHT\n"
     ]
    }
   ],
   "source": [
    "word = 'OneThirtyEight'\n",
    "one = word[:3]\n",
    "thirty = word[3:9]\n",
    "eight = word[9:]\n",
    "one_thirty = word[:9]\n",
    "thirty_eight = word[3:]\n",
    "one_thirty_eight = word.upper()\n",
    "#printing out variables \n",
    "print (one )\n",
    "print (thirty)\n",
    "print(eight)\n",
    "print(one_thirty)\n",
    "print(thirty_eight)\n",
    "print(one_thirty_eight)"
   ]
  },
  {
   "cell_type": "markdown",
   "id": "2a4eea1f",
   "metadata": {},
   "source": [
    "### Q10\n",
    "Turn Ault'Kelly into a string and assign it to a variable  called name."
   ]
  },
  {
   "cell_type": "code",
   "execution_count": 7,
   "id": "aa2f0a08",
   "metadata": {},
   "outputs": [
    {
     "data": {
      "text/plain": [
       "\"Ault'Kelly\""
      ]
     },
     "execution_count": 7,
     "metadata": {},
     "output_type": "execute_result"
    }
   ],
   "source": [
    "name = \"Ault'Kelly\"\n",
    "name "
   ]
  },
  {
   "cell_type": "code",
   "execution_count": null,
   "id": "48f60952",
   "metadata": {},
   "outputs": [],
   "source": []
  }
 ],
 "metadata": {
  "kernelspec": {
   "display_name": "Python 3 (ipykernel)",
   "language": "python",
   "name": "python3"
  },
  "language_info": {
   "codemirror_mode": {
    "name": "ipython",
    "version": 3
   },
   "file_extension": ".py",
   "mimetype": "text/x-python",
   "name": "python",
   "nbconvert_exporter": "python",
   "pygments_lexer": "ipython3",
   "version": "3.9.13"
  }
 },
 "nbformat": 4,
 "nbformat_minor": 5
}
