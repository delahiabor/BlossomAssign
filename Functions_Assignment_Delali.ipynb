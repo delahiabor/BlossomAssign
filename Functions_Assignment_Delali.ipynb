{
 "cells": [
  {
   "cell_type": "markdown",
   "id": "352dd2e3",
   "metadata": {},
   "source": [
    "### Q1\n",
    "\n",
    "Define a python function that calculate the perimeter of the rectangle\n",
    "\n",
    "Formular\n",
    "\n",
    "formular => 2 X length + 2 X Width"
   ]
  },
  {
   "cell_type": "code",
   "execution_count": 2,
   "id": "0c09baef",
   "metadata": {},
   "outputs": [
    {
     "name": "stdout",
     "output_type": "stream",
     "text": [
      "Enter length of your rectangle: 5\n",
      "Enter width of your rectangle6\n",
      "The perimeter of your rectangle is: 22\n"
     ]
    }
   ],
   "source": [
    "length = int(input(\"Enter length of your rectangle: \"))\n",
    "width = int(input(\"Enter width of your rectangle\"))\n",
    "\n",
    "def perimeter(l,w):\n",
    "    prmtr = (2 * l) + (2 *w)\n",
    "    print(f\"The perimeter of your rectangle is: {prmtr}\")\n",
    "    \n",
    "perimeter(length,width)"
   ]
  },
  {
   "cell_type": "markdown",
   "id": "a56ccec8",
   "metadata": {},
   "source": [
    "### Q2\n",
    "Define the function to calculate the area of a circle. Round the answer to 3 decimal places.\n",
    "\n",
    "**Preamble**\n",
    " - Take pi as 22/7\n",
    " - formular pi x r ** 2"
   ]
  },
  {
   "cell_type": "code",
   "execution_count": 1,
   "id": "a14c07aa",
   "metadata": {},
   "outputs": [
    {
     "name": "stdout",
     "output_type": "stream",
     "text": [
      "78.571\n"
     ]
    }
   ],
   "source": [
    "def circle_area(radius):\n",
    "    pi = 22/7\n",
    "    area = pi * radius**2\n",
    "    return round(area, 3)\n",
    "\n",
    "area = circle_area(5)\n",
    "print(area)\n"
   ]
  },
  {
   "cell_type": "markdown",
   "id": "be5a6965",
   "metadata": {},
   "source": [
    "### Q3\n",
    "Define a function that takes a list of numbers and print out the **mean**, **median** and **mode**.\n",
    "\n",
    "- Test your function with the list b\n",
    "\n",
    "`b = [2,3,4,6,7,3,4,3,2,1,3]`"
   ]
  },
  {
   "cell_type": "code",
   "execution_count": 69,
   "id": "5a72ef52",
   "metadata": {},
   "outputs": [
    {
     "name": "stdout",
     "output_type": "stream",
     "text": [
      "The mean of the numbers is: 3.455\n",
      "The median of the numbers is: 3\n",
      "The mode of the numbers is: 2\n"
     ]
    }
   ],
   "source": [
    "b = [2,3,4,6,7,3,4,3,2,1,3]\n",
    "\n",
    "def stats(lst):\n",
    "    mean = round(sum(lst)/len(lst),3)\n",
    "    print(f\"The mean of the numbers is: {mean}\")\n",
    "    median = sorted(b)[len(b)// 2]\n",
    "    print(f\"The median of the numbers is: {median}\")\n",
    "    \n",
    "          \n",
    "stats(b)\n",
    "#dictionary[key] = value\n",
    "#dictionary[2] = 2\n",
    "#dictionary[3] = 4\n",
    "#dictionary[4] = 2\n",
    "#dictionary[6] = 1\n",
    "#dictionary[7] = 1\n"
   ]
  },
  {
   "cell_type": "markdown",
   "id": "3313ab10",
   "metadata": {},
   "source": [
    "### Q4\n",
    "Define a function that prints out the list of the first 20 prime numbers"
   ]
  },
  {
   "cell_type": "code",
   "execution_count": 4,
   "id": "e3dedf87",
   "metadata": {},
   "outputs": [],
   "source": [
    "def print_first_20_primes():\n",
    "    primes = []\n",
    "    num = 2\n",
    "    \n",
    "    while len(primes) < 20:\n",
    "        for i in range(2, num):\n",
    "            if num % i == 0:\n",
    "                break\n",
    "        else:\n",
    "            primes.append(num)\n",
    "        num += 1\n",
    "    \n",
    "    print(primes)"
   ]
  },
  {
   "cell_type": "markdown",
   "id": "ef1c5863",
   "metadata": {},
   "source": [
    "#### Q5\n",
    "Define a function that takes a list of strings and print out the string and the length of the string.\n",
    "\n",
    "**Example of expected output**\n",
    "\n",
    "{\"Kofi\":4,\n",
    "\"Ama\":3,\n",
    "\"Sedem\":5}"
   ]
  },
  {
   "cell_type": "code",
   "execution_count": 9,
   "id": "1c6cb2f3",
   "metadata": {},
   "outputs": [
    {
     "name": "stdout",
     "output_type": "stream",
     "text": [
      "Araba: 5\n",
      "Kobby: 5\n",
      "Afia: 4\n",
      "{'Araba': 5, 'Kobby': 5, 'Afia': 4}\n"
     ]
    }
   ],
   "source": [
    "def string_lengths(string_list):\n",
    "    for string in string_list:\n",
    "        print(f\"{string}: {len(string)}\")\n",
    "\n",
    "        \n",
    "string_list = [\"Araba\", \"Kobby\", \"Afia\"]\n",
    "string_lengths(string_list)\n",
    "\n",
    "into_list = {\"Araba\":5, \"Kobby\":5, \"Afia\":4}\n",
    "print(into_list)\n",
    "\n"
   ]
  },
  {
   "cell_type": "markdown",
   "id": "5072c8d8",
   "metadata": {},
   "source": [
    "### Q6\n",
    "Define a function that takes a list of strings and numbers and print out only the strings and the position of the strings.\n",
    "\n",
    "**Preamble**\n",
    "\n",
    "names = ['sedem', 'Kofi', 'kobla']\n",
    "\n",
    "**Expected Output**\n",
    "\n",
    "{'sedem': P0, 'Kofi': P1, 'kobla': P2}"
   ]
  },
  {
   "cell_type": "code",
   "execution_count": 17,
   "id": "7564fcb0",
   "metadata": {},
   "outputs": [],
   "source": [
    "# define function\n",
    "def strings_positions(lst):\n",
    "    funct = {}\n",
    "    for index,value in enumerate(lst):\n",
    "        if type(value) == str:\n",
    "            funct.update({value:index})\n",
    "    return funct"
   ]
  },
  {
   "cell_type": "code",
   "execution_count": 18,
   "id": "1cc401f9",
   "metadata": {},
   "outputs": [
    {
     "data": {
      "text/plain": [
       "{'Python': 0, 'Programming': 1, 'Blossom': 3}"
      ]
     },
     "execution_count": 18,
     "metadata": {},
     "output_type": "execute_result"
    }
   ],
   "source": [
    "strings = ['Python', 'Programming', 45, 'Blossom']\n",
    "strings_positions(strings)"
   ]
  },
  {
   "cell_type": "markdown",
   "id": "5593b665",
   "metadata": {},
   "source": [
    "### Q7\n",
    "Define a function that returns whether the sum of a person age and person's date of birth equals 2023\n",
    "\n",
    "**Preamble**\n",
    "\n",
    "2001 + 22 => True\n",
    "\n",
    "2002 + 5 => False"
   ]
  },
  {
   "cell_type": "code",
   "execution_count": 20,
   "id": "317eada2",
   "metadata": {},
   "outputs": [
    {
     "name": "stdout",
     "output_type": "stream",
     "text": [
      "Enter your age: 45\n",
      "Enter your birth year: 1986\n",
      "1986 + 45 => False\n"
     ]
    }
   ],
   "source": [
    "age = int(input(\"Enter your age: \"))\n",
    "birth_year = int(input(\"Enter your birth year: \"))\n",
    "\n",
    "def age_checker(age, birth_year):\n",
    "    print(f\"{birth_year} + {age} => {birth_year + age == 2023}\")\n",
    "    \n",
    "age_checker(age,birth_year)"
   ]
  },
  {
   "cell_type": "markdown",
   "id": "f831e652",
   "metadata": {},
   "source": [
    "### Q8\n",
    "Define a function that determine whether a particular year is a **decade**, the output should be a boolean (True or False)\n"
   ]
  },
  {
   "cell_type": "code",
   "execution_count": 22,
   "id": "233ee355",
   "metadata": {},
   "outputs": [
    {
     "name": "stdout",
     "output_type": "stream",
     "text": [
      "Enter year: 2023\n",
      "False\n"
     ]
    }
   ],
   "source": [
    "year = int(input(\"Enter year: \"))\n",
    "\n",
    "def decade_check(year):\n",
    "    if year % 10 == 0:\n",
    "        print(True)\n",
    "    else:\n",
    "        print(False)\n",
    "\n",
    "decade_check(year)"
   ]
  },
  {
   "cell_type": "markdown",
   "id": "211c19e3",
   "metadata": {},
   "source": [
    "### Q9\n",
    "Define a function that contains a list of strings and punctuations,the output should on return the list of punctuations.\n"
   ]
  },
  {
   "cell_type": "code",
   "execution_count": 30,
   "id": "dfac1650",
   "metadata": {},
   "outputs": [],
   "source": [
    "def punctuations(lst):\n",
    "    puncts = []\n",
    "    for item in lst:\n",
    "        if not item.isalpha():\n",
    "            puncts.append(item)\n",
    "    return puncts"
   ]
  },
  {
   "cell_type": "code",
   "execution_count": 31,
   "id": "889e77aa",
   "metadata": {},
   "outputs": [
    {
     "data": {
      "text/plain": [
       "['.', '-']"
      ]
     },
     "execution_count": 31,
     "metadata": {},
     "output_type": "execute_result"
    }
   ],
   "source": [
    "lists = ['Blossom','.','-','Academy']\n",
    "punctuations(lists)"
   ]
  },
  {
   "cell_type": "markdown",
   "id": "34bae9ec",
   "metadata": {},
   "source": [
    "### Q10\n",
    "\n",
    "Define a lambda function that print out the cubic root of a list of numbers"
   ]
  },
  {
   "cell_type": "code",
   "execution_count": 34,
   "id": "84e2a865",
   "metadata": {},
   "outputs": [
    {
     "data": {
      "text/plain": [
       "[1.44, 1.71, 1.91, 2.08, 2.15, 2.84, 1.59, 2.88]"
      ]
     },
     "execution_count": 34,
     "metadata": {},
     "output_type": "execute_result"
    }
   ],
   "source": [
    "numbers = [3,5,7,9,10,23,4,24]\n",
    "cubic_root = lambda numbers: [round(x ** (1/3),2) for x in numbers]\n",
    "cubic_root(numbers)"
   ]
  },
  {
   "cell_type": "markdown",
   "id": "37974632",
   "metadata": {},
   "source": [
    "### Q11\n",
    "Define a lambda function that print out the cube of a list of numbers"
   ]
  },
  {
   "cell_type": "code",
   "execution_count": 33,
   "id": "250ae768",
   "metadata": {},
   "outputs": [
    {
     "data": {
      "text/plain": [
       "[27, 125, 343, 729, 1000, 12167, 64, 13824]"
      ]
     },
     "execution_count": 33,
     "metadata": {},
     "output_type": "execute_result"
    }
   ],
   "source": [
    "numbers = [3,5,7,9,10,23,4,24]\n",
    "cubes = lambda numbers: [x ** 3 for x in numbers]\n",
    "cubes(numbers)"
   ]
  },
  {
   "cell_type": "markdown",
   "id": "b1522dbb",
   "metadata": {},
   "source": [
    "### Q12\n",
    "Define a function that take a list of list of numbers and return a list that contains the average of each sublist using map."
   ]
  },
  {
   "cell_type": "code",
   "execution_count": 40,
   "id": "ea07c329",
   "metadata": {},
   "outputs": [
    {
     "data": {
      "text/plain": [
       "[3.0, 6.0, 9.0]"
      ]
     },
     "execution_count": 40,
     "metadata": {},
     "output_type": "execute_result"
    }
   ],
   "source": [
    "numbers = [[2,3,4],[5,6,7],[8,9,10]]\n",
    "def average(var):\n",
    "    mean = sum(var)/len(var)\n",
    "    return mean\n",
    "\n",
    "mapping = list(map(average,numbers))\n",
    "mapping"
   ]
  },
  {
   "cell_type": "markdown",
   "id": "0fd5cd06",
   "metadata": {},
   "source": [
    "### Q13\n",
    "Define a function that takes a list of strings and filter out strings that are upper case."
   ]
  },
  {
   "cell_type": "code",
   "execution_count": 43,
   "id": "e0c416cb",
   "metadata": {},
   "outputs": [
    {
     "data": {
      "text/plain": [
       "['DELALI', 'JOANA', 'JOHN']"
      ]
     },
     "execution_count": 43,
     "metadata": {},
     "output_type": "execute_result"
    }
   ],
   "source": [
    "strings = ['DELALI','Blossom','JOANA','JOHN','Academy']\n",
    "def uppercase(arg):\n",
    "    upper = []\n",
    "    for item in arg:\n",
    "        if item.isupper():\n",
    "            upper.append(item)\n",
    "    return upper\n",
    "            \n",
    "uppercase(strings)\n",
    "    \n",
    "    "
   ]
  },
  {
   "cell_type": "markdown",
   "id": "d0dddd17",
   "metadata": {},
   "source": [
    "### Q14\n",
    "Define a function that takes a list of numbers and print out the numbers which are prime in the list."
   ]
  },
  {
   "cell_type": "code",
   "execution_count": 45,
   "id": "8ad6466a",
   "metadata": {},
   "outputs": [],
   "source": [
    "def prime_checker(lst):\n",
    "    prime_list = []\n",
    "    for num in lst:\n",
    "        for i in range(2,num):\n",
    "            if num % i == 0:\n",
    "                break\n",
    "        else:\n",
    "            prime_list.append(num)\n",
    "    return prime_list"
   ]
  },
  {
   "cell_type": "code",
   "execution_count": 46,
   "id": "53e22001",
   "metadata": {},
   "outputs": [
    {
     "data": {
      "text/plain": [
       "[2, 3, 5, 7, 11, 13, 17, 19, 23, 29, 31, 37, 41, 43, 47]"
      ]
     },
     "execution_count": 46,
     "metadata": {},
     "output_type": "execute_result"
    }
   ],
   "source": [
    "prime_checker(range(2,50))"
   ]
  },
  {
   "cell_type": "markdown",
   "id": "240741dc",
   "metadata": {},
   "source": [
    "### Q15\n",
    "Define a function that take a list of strings and return a zip of each string and length of a string."
   ]
  },
  {
   "cell_type": "code",
   "execution_count": 52,
   "id": "b758d460",
   "metadata": {},
   "outputs": [
    {
     "name": "stdout",
     "output_type": "stream",
     "text": [
      "('I', 1)\n",
      "('Am', 2)\n",
      "('Using', 5)\n",
      "('Python', 6)\n",
      "('Programming', 11)\n",
      "('Language', 8)\n"
     ]
    }
   ],
   "source": [
    "def string_count_zipper(lst):\n",
    "    zipped =  zip(lst,map(len,lst))\n",
    "    for zips in zipped:\n",
    "        print(zips)\n",
    "\n",
    "strings = [\"I\", \"Am\", \"Using\", \"Python\", \"Programming\", \"Language\"]\n",
    "string_count_zipper(strings)"
   ]
  },
  {
   "cell_type": "markdown",
   "id": "44a1339f",
   "metadata": {},
   "source": [
    "### Q16\n",
    "Define a function that takes in a number and return the first 12 multiples of the the number.\n",
    "\n",
    "Expected Output\n",
    "\n",
    "2 X 1 = 2\n",
    "\n",
    "to\n",
    "\n",
    "2 X 12 = 24"
   ]
  },
  {
   "cell_type": "code",
   "execution_count": 54,
   "id": "3b10801e",
   "metadata": {},
   "outputs": [
    {
     "name": "stdout",
     "output_type": "stream",
     "text": [
      "Enter number: 5\n",
      "5 x 1 = 5\n",
      "5 x 2 = 10\n",
      "5 x 3 = 15\n",
      "5 x 4 = 20\n",
      "5 x 5 = 25\n",
      "5 x 6 = 30\n",
      "5 x 7 = 35\n",
      "5 x 8 = 40\n",
      "5 x 9 = 45\n",
      "5 x 10 = 50\n",
      "5 x 11 = 55\n",
      "5 x 12 = 60\n"
     ]
    }
   ],
   "source": [
    "john = int(input(\"Enter number: \"))\n",
    "\n",
    "def multiples(number):\n",
    "    for i in range(1,13):\n",
    "        print(f\"{number} x {i} = {number * i}\")\n",
    "\n",
    "multiples(john)\n",
    "              "
   ]
  },
  {
   "cell_type": "markdown",
   "id": "cd63dd99",
   "metadata": {},
   "source": [
    "### Q17\n",
    "Write a Python function to find the maximum of three numbers.\n",
    "\n",
    "**Do not use the max function**"
   ]
  },
  {
   "cell_type": "code",
   "execution_count": 56,
   "id": "9197bc2a",
   "metadata": {},
   "outputs": [
    {
     "name": "stdout",
     "output_type": "stream",
     "text": [
      "Enter first number: 34\n",
      "Enter second number: 45\n",
      "Enter third number: 45\n",
      "45 is the maximum\n"
     ]
    }
   ],
   "source": [
    "first = int(input(\"Enter first number: \"))\n",
    "second = int(input(\"Enter second number: \"))\n",
    "third = int(input(\"Enter third number: \"))\n",
    "\n",
    "def highest(first,second,third):\n",
    "    if first > second and first > third:\n",
    "        print(f\"{first} is the maximum\")\n",
    "    elif second > first and second > third:\n",
    "        print(f\"{second} is the maximum\")\n",
    "    else:\n",
    "        print(f\"{third} is the maximum\")\n",
    "highest(first,second,third)"
   ]
  },
  {
   "cell_type": "markdown",
   "id": "67520c0b",
   "metadata": {},
   "source": [
    "### Q18\n",
    "Write a Python function to multiply all the numbers in a list."
   ]
  },
  {
   "cell_type": "code",
   "execution_count": 60,
   "id": "f2c02e77",
   "metadata": {},
   "outputs": [
    {
     "data": {
      "text/plain": [
       "720"
      ]
     },
     "execution_count": 60,
     "metadata": {},
     "output_type": "execute_result"
    }
   ],
   "source": [
    "def multiplier(arg):\n",
    "    multi = 1\n",
    "    for number in arg:\n",
    "        multi *= number\n",
    "    return multi\n",
    "\n",
    "muls = [2,3,4,5,6]\n",
    "multiplier(muls)"
   ]
  },
  {
   "cell_type": "code",
   "execution_count": 64,
   "id": "ed5fb21f",
   "metadata": {},
   "outputs": [
    {
     "name": "stdout",
     "output_type": "stream",
     "text": [
      "Enter first number: 45\n",
      "Enter first number: 43\n",
      "Enter first number: 42\n",
      "45\n"
     ]
    }
   ],
   "source": [
    "first = int(input(\"Enter first number: \"))\n",
    "second = int(input(\"Enter first number: \"))\n",
    "third = int(input(\"Enter first number: \"))\n",
    "ls = [first, second, third]\n",
    "def highest(first, second, third):\n",
    "    print(sorted(ls)[2])\n",
    "\n",
    "highest(first, second, third)"
   ]
  },
  {
   "cell_type": "markdown",
   "id": "05891582",
   "metadata": {},
   "source": [
    "### Q19\n",
    "Write a Python program to reverse a string"
   ]
  },
  {
   "cell_type": "code",
   "execution_count": 65,
   "id": "558e9ac2",
   "metadata": {},
   "outputs": [
    {
     "name": "stdout",
     "output_type": "stream",
     "text": [
      "Enter any word of your choice: Blossom\n",
      "mossolB\n"
     ]
    }
   ],
   "source": [
    "user = input('Enter any word of your choice: ')\n",
    "\n",
    "def reverser(user):\n",
    "    print(user[::-1])\n",
    "    \n",
    "reverser(user)"
   ]
  },
  {
   "cell_type": "code",
   "execution_count": null,
   "id": "aac7bed3",
   "metadata": {},
   "outputs": [],
   "source": [
    "# asks for input \n",
    "# reverses the word\n",
    "\n",
    "user = input('Enter any word of your choice: ')\n",
    "# steps one at a time backward till the zero index\n",
    "print(user[::-1])"
   ]
  },
  {
   "cell_type": "markdown",
   "id": "b9025ac8",
   "metadata": {},
   "source": [
    "### Q20\n",
    "Write a python function to return the length of a string."
   ]
  },
  {
   "cell_type": "code",
   "execution_count": 66,
   "id": "5e569e38",
   "metadata": {
    "scrolled": true
   },
   "outputs": [
    {
     "name": "stdout",
     "output_type": "stream",
     "text": [
      "7\n"
     ]
    }
   ],
   "source": [
    "def length(string):\n",
    "    print(len(string))\n",
    "    \n",
    "length(\"Blossom\")"
   ]
  },
  {
   "cell_type": "markdown",
   "id": "8d1ee176",
   "metadata": {},
   "source": [
    "Have a lovely coding weekend"
   ]
  }
 ],
 "metadata": {
  "kernelspec": {
   "display_name": "Python 3 (ipykernel)",
   "language": "python",
   "name": "python3"
  },
  "language_info": {
   "codemirror_mode": {
    "name": "ipython",
    "version": 3
   },
   "file_extension": ".py",
   "mimetype": "text/x-python",
   "name": "python",
   "nbconvert_exporter": "python",
   "pygments_lexer": "ipython3",
   "version": "3.9.13"
  }
 },
 "nbformat": 4,
 "nbformat_minor": 5
}
