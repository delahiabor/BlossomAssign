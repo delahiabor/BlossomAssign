{
 "cells": [
  {
   "cell_type": "markdown",
   "id": "83e1d259",
   "metadata": {},
   "source": [
    "# Q1"
   ]
  },
  {
   "cell_type": "code",
   "execution_count": 6,
   "id": "adff5999",
   "metadata": {},
   "outputs": [
    {
     "name": "stdout",
     "output_type": "stream",
     "text": [
      "['eggs', 'milk', 'cheese', 'butter']\n",
      "(3, 4, 5, 6, 7)\n",
      "{40, 10, 20, 30}\n",
      "{'Kofi': 17, 'Complexion': 'Fair', 'Height': 1.7}\n"
     ]
    }
   ],
   "source": [
    "#Name the four built-in data structures in python. Give one examples for each\n",
    "\n",
    "#1.list \n",
    "xlist=['eggs','milk','cheese','butter']\n",
    "print(xlist)\n",
    "\n",
    "#2.tuple\n",
    "ytupe = (3,4,5,6,7)\n",
    "print(ytupe)\n",
    "\n",
    "#3.sets \n",
    "zset={10,20,30,40}\n",
    "print(zset)\n",
    "\n",
    "#4.dictionaries\n",
    "udict= {'Kofi':17, 'Complexion': 'Fair', \"Height\": 1.7 }\n",
    "print(udict)"
   ]
  },
  {
   "cell_type": "markdown",
   "id": "9a0b543e",
   "metadata": {},
   "source": [
    "# Q2"
   ]
  },
  {
   "cell_type": "markdown",
   "id": "59bdc589",
   "metadata": {},
   "source": [
    "#State two differences between a list and a tuple in Python.\n",
    "\n",
    "1. Lists are mutable and tuples are immutable.\n",
    "\n",
    "2. Lists are unordered and tuples are ordered.\n"
   ]
  },
  {
   "cell_type": "markdown",
   "id": "9c3e3dd5",
   "metadata": {},
   "source": [
    "# Q3"
   ]
  },
  {
   "cell_type": "code",
   "execution_count": 31,
   "id": "bc6ab827",
   "metadata": {},
   "outputs": [
    {
     "name": "stdout",
     "output_type": "stream",
     "text": [
      "['monkey', 'ant']\n",
      "['bee', 'moth']\n",
      "['monkey', 'ant', 'bee', 'moth', 'lion', 'penguin', 'antelope']\n",
      "7\n",
      "{'moth', 'lion', 'ant', 'antelope', 'monkey', 'bee', 'penguin'}\n",
      "7\n"
     ]
    }
   ],
   "source": [
    "animal_list = [\"monkey\",\"ant\",\"bee\",\"moth\"]\n",
    "\n",
    "#Print the first two animals\n",
    "print(animal_list[0:2])\n",
    "\n",
    "#Print the first two animals\n",
    "print(animal_list[2:4])\n",
    "\n",
    "#Add three extra animals to the variable animal_list\n",
    "animal_list.extend([\"lion\",\"penguin\",\"antelope\"]) \n",
    "print(animal_list)\n",
    "\n",
    "#Remove the first two animals from the variable animal_list\n",
    "#animal_list.remove([\"monkey\",\"ant\"])\n",
    "\n",
    "#How many animals are in the animal_list?\n",
    "count= len(animal_list)\n",
    "print(count)\n",
    "\n",
    "#Create a variable animal_set which stores the set of animal_list\n",
    "animal_set ={'monkey', 'ant', 'bee', 'moth', 'lion', 'penguin', 'antelope'}\n",
    "print(animal_set)\n",
    "\n",
    "#How many elements are in the animal_set\n",
    "setcount= len(animal_set)\n",
    "print(setcount)\n",
    "\n"
   ]
  },
  {
   "cell_type": "markdown",
   "id": "bd3c42d5",
   "metadata": {},
   "source": [
    "# Q4"
   ]
  },
  {
   "cell_type": "code",
   "execution_count": 34,
   "id": "950d79b4",
   "metadata": {},
   "outputs": [
    {
     "name": "stdout",
     "output_type": "stream",
     "text": [
      "['sunglasses', 'hat']\n",
      "['passport', 'laptop']\n",
      "['suit', 'shoes']\n"
     ]
    }
   ],
   "source": [
    "suitcase = [\"sunglasses\", \"hat\", \"passport\", \"laptop\", \"suit\", \"shoes\"]\n",
    "\n",
    "#Create a list called first containing only the two first items from suitcase\n",
    "first = (suitcase[0:2])\n",
    "print(first)\n",
    "\n",
    "#Create a list called middle containing only the two middle items from suitcase.\n",
    "middle = (suitcase[2:4])\n",
    "print(middle)\n",
    "\n",
    "#Create a list called last made up only of the last two items from suitcase.\n",
    "last=(suitcase[4:6])\n",
    "print(last)"
   ]
  },
  {
   "cell_type": "markdown",
   "id": "7ac50edf",
   "metadata": {},
   "source": [
    "# Q5"
   ]
  },
  {
   "cell_type": "code",
   "execution_count": 43,
   "id": "97b3127f",
   "metadata": {},
   "outputs": [
    {
     "name": "stdout",
     "output_type": "stream",
     "text": [
      "[20, 25, 30, 35, 40, 45, 50, 55, 60, 65, 70]\n"
     ]
    }
   ],
   "source": [
    "#Write a python code to insert 35 into the list beloW. \n",
    "#Make sure it is inserted in the right position to maintain the order of the data.\n",
    "\n",
    "\n",
    "values = [20,25,30,40,45,50,55,60,65,70]\n",
    "values.insert(3,35)\n",
    "print(values)\n"
   ]
  },
  {
   "cell_type": "markdown",
   "id": "0d55fe55",
   "metadata": {},
   "source": [
    "# Q6"
   ]
  },
  {
   "cell_type": "code",
   "execution_count": null,
   "id": "6aa44480",
   "metadata": {},
   "outputs": [],
   "source": [
    "#Given that Python lists and Python tuples are quite similar – \n",
    "#when might you prefer to use a tuple over a list?\n",
    "\n",
    "When you do not want the values to change, or if it is a constant value.\n"
   ]
  },
  {
   "cell_type": "markdown",
   "id": "59fa91b0",
   "metadata": {},
   "source": [
    "# Q7"
   ]
  },
  {
   "cell_type": "code",
   "execution_count": 49,
   "id": "f3f5d7f1",
   "metadata": {},
   "outputs": [
    {
     "name": "stdout",
     "output_type": "stream",
     "text": [
      "{'Volta Region': 'Ho', 'Upper West Region': 'Wa', 'Greater Accra ': 'Accra', 'Ashanti Region': 'Kumasi', 'Eastern Region': 'Koforidua'}\n",
      "dict_keys(['Volta Region', 'Upper West Region', 'Greater Accra ', 'Ashanti Region', 'Eastern Region'])\n",
      "dict_values(['Ho', 'Wa', 'Accra', 'Kumasi', 'Koforidua'])\n"
     ]
    }
   ],
   "source": [
    "region_capital = {\"Volta Region\":\"Ho\", \"Upper West Region\": \"Wa\",\n",
    "                  \"Greater Accra \": \"Accra\", \"Ashanti Region\":\"Kumasi\",\"Eastern Region\": \"Koforidua\"}\n",
    "print(region_capital)\n",
    "\n",
    "#Print out the keys of region_capital\n",
    "key_s= region_capital.keys()\n",
    "print(key_s)\n",
    "\n",
    "#Print out the values of region_capital\n",
    "value_s= region_capital.values()\n",
    "print(value_s)\n",
    "\n",
    "\n"
   ]
  },
  {
   "cell_type": "markdown",
   "id": "0d6dec39",
   "metadata": {},
   "source": [
    "  # Q8"
   ]
  },
  {
   "cell_type": "code",
   "execution_count": 51,
   "id": "a4517bc0",
   "metadata": {},
   "outputs": [
    {
     "name": "stdout",
     "output_type": "stream",
     "text": [
      "59\n"
     ]
    }
   ],
   "source": [
    "values = [3,4,5,6,3,4,3,5,2,4,2,5,6,1,6]\n",
    "#Total number of elements in values\n",
    "total = sum(values)\n",
    "print(total)"
   ]
  },
  {
   "cell_type": "code",
   "execution_count": null,
   "id": "36882be7",
   "metadata": {},
   "outputs": [],
   "source": []
  }
 ],
 "metadata": {
  "kernelspec": {
   "display_name": "Python 3 (ipykernel)",
   "language": "python",
   "name": "python3"
  },
  "language_info": {
   "codemirror_mode": {
    "name": "ipython",
    "version": 3
   },
   "file_extension": ".py",
   "mimetype": "text/x-python",
   "name": "python",
   "nbconvert_exporter": "python",
   "pygments_lexer": "ipython3",
   "version": "3.9.13"
  }
 },
 "nbformat": 4,
 "nbformat_minor": 5
}
